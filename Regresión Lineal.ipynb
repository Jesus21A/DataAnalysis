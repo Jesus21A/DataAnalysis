{
 "cells": [
  {
   "cell_type": "markdown",
   "id": "0b74a296",
   "metadata": {},
   "source": [
    "## Importamos librerías"
   ]
  },
  {
   "cell_type": "code",
   "execution_count": 1,
   "id": "ae0298c5",
   "metadata": {},
   "outputs": [],
   "source": [
    "# Importamos las librerias necesarias para realizar nuestro modelo de regresión lineal.\n",
    "\n",
    "# Pandas para el manejo del dataframe\n",
    "import pandas as pd\n",
    "\n",
    "# Sklearn para el manejo del modelo y sus validaciones\n",
    "from sklearn.linear_model import LinearRegression\n",
    "from sklearn.model_selection import train_test_split\n",
    "from sklearn.metrics import mean_squared_error, r2_score\n",
    "\n",
    "# MatplotLib para el manejo de la visualización\n",
    "import matplotlib.pyplot as plt\n",
    "from mpl_toolkits.mplot3d import Axes3D\n",
    "\n",
    "# Scipy y Statsmodels para el manejo de unas validaciones\n",
    "from scipy.stats import anderson\n",
    "from statsmodels.stats.stattools import durbin_watson"
   ]
  },
  {
   "cell_type": "markdown",
   "id": "b8c4bfff",
   "metadata": {},
   "source": [
    "## Obtenemos el dataframe"
   ]
  },
  {
   "cell_type": "code",
   "execution_count": 2,
   "id": "1bc239db",
   "metadata": {},
   "outputs": [
    {
     "data": {
      "text/html": [
       "<div>\n",
       "<style scoped>\n",
       "    .dataframe tbody tr th:only-of-type {\n",
       "        vertical-align: middle;\n",
       "    }\n",
       "\n",
       "    .dataframe tbody tr th {\n",
       "        vertical-align: top;\n",
       "    }\n",
       "\n",
       "    .dataframe thead th {\n",
       "        text-align: right;\n",
       "    }\n",
       "</style>\n",
       "<table border=\"1\" class=\"dataframe\">\n",
       "  <thead>\n",
       "    <tr style=\"text-align: right;\">\n",
       "      <th></th>\n",
       "      <th>metro</th>\n",
       "      <th>precio</th>\n",
       "    </tr>\n",
       "  </thead>\n",
       "  <tbody>\n",
       "    <tr>\n",
       "      <th>0</th>\n",
       "      <td>5</td>\n",
       "      <td>375</td>\n",
       "    </tr>\n",
       "    <tr>\n",
       "      <th>1</th>\n",
       "      <td>15</td>\n",
       "      <td>487</td>\n",
       "    </tr>\n",
       "    <tr>\n",
       "      <th>2</th>\n",
       "      <td>20</td>\n",
       "      <td>450</td>\n",
       "    </tr>\n",
       "    <tr>\n",
       "      <th>3</th>\n",
       "      <td>25</td>\n",
       "      <td>500</td>\n",
       "    </tr>\n",
       "    <tr>\n",
       "      <th>4</th>\n",
       "      <td>30</td>\n",
       "      <td>1227</td>\n",
       "    </tr>\n",
       "  </tbody>\n",
       "</table>\n",
       "</div>"
      ],
      "text/plain": [
       "   metro  precio\n",
       "0      5     375\n",
       "1     15     487\n",
       "2     20     450\n",
       "3     25     500\n",
       "4     30    1227"
      ]
     },
     "execution_count": 2,
     "metadata": {},
     "output_type": "execute_result"
    }
   ],
   "source": [
    "# Convertimos nuestro archivo .csv en un dataframe. Separamos los campos por medio del caracter \",\"\n",
    "df = pd.read_csv('Regresion_lineal.csv', sep=',')\n",
    "\n",
    "# Verificamos nuestro dataframe con el método head()\n",
    "df.head()"
   ]
  },
  {
   "cell_type": "markdown",
   "id": "f1075ba3",
   "metadata": {},
   "source": [
    "## Observamos la distribución del dataframe"
   ]
  },
  {
   "cell_type": "code",
   "execution_count": 3,
   "id": "e9a26b1d",
   "metadata": {},
   "outputs": [
    {
     "data": {
      "image/png": "[encoded data removed]",
      "text/plain": [
       "<Figure size 640x480 with 1 Axes>"
      ]
     },
     "metadata": {},
     "output_type": "display_data"
    }
   ],
   "source": [
    "# Definimos el tipo de grafico que queremos observar del dataframe\n",
    "plt.scatter(df['metro'], df['precio'], label='Precio vs. Metros', color='blue', marker='o')\n",
    "\n",
    "# Agregamos las etiquetas de los ejes y título\n",
    "plt.xlabel('Metros')\n",
    "plt.ylabel('Precio')\n",
    "plt.title('Relación entre Metros y Precio')\n",
    "\n",
    "# Mostramos la leyenda\n",
    "plt.legend()\n",
    "\n",
    "# Mostramos el gráfico\n",
    "plt.show()"
   ]
  },
  {
   "cell_type": "markdown",
   "id": "ffe88603",
   "metadata": {},
   "source": [
    "## Creamos nuestros subconjuntos para el modelo"
   ]
  },
  {
   "cell_type": "code",
   "execution_count": 4,
   "id": "be5bf23f",
   "metadata": {},
   "outputs": [],
   "source": [
    "# Separamos el conjunto de datos en dependientes e independientes\n",
    "X = df[[\"metro\"]]\n",
    "Y = df[\"precio\"]"
   ]
  },
  {
   "cell_type": "code",
   "execution_count": 5,
   "id": "dcad6b25",
   "metadata": {},
   "outputs": [],
   "source": [
    "# Separamos los conjuntos anteriores en entrenamiento y prueba (80-20)\n",
    "X_train, X_test, y_train, y_test = train_test_split(X, Y, test_size=0.2, random_state=0)"
   ]
  },
  {
   "cell_type": "code",
   "execution_count": 6,
   "id": "55e29758",
   "metadata": {},
   "outputs": [],
   "source": [
    "# Creamos nuestro modelo de regresión lineal\n",
    "modelo = LinearRegression()"
   ]
  },
  {
   "cell_type": "code",
   "execution_count": 7,
   "id": "f04fdefa",
   "metadata": {},
   "outputs": [
    {
     "data": {
      "text/html": [
       "<style>#sk-container-id-1 {color: black;}#sk-container-id-1 pre{padding: 0;}#sk-container-id-1 div.sk-toggleable {background-color: white;}#sk-container-id-1 label.sk-toggleable__label {cursor: pointer;display: block;width: 100%;margin-bottom: 0;padding: 0.3em;box-sizing: border-box;text-align: center;}#sk-container-id-1 label.sk-toggleable__label-arrow:before {content: \"▸\";float: left;margin-right: 0.25em;color: #696969;}#sk-container-id-1 label.sk-toggleable__label-arrow:hover:before {color: black;}#sk-container-id-1 div.sk-estimator:hover label.sk-toggleable__label-arrow:before {color: black;}#sk-container-id-1 div.sk-toggleable__content {max-height: 0;max-width: 0;overflow: hidden;text-align: left;background-color: #f0f8ff;}#sk-container-id-1 div.sk-toggleable__content pre {margin: 0.2em;color: black;border-radius: 0.25em;background-color: #f0f8ff;}#sk-container-id-1 input.sk-toggleable__control:checked~div.sk-toggleable__content {max-height: 200px;max-width: 100%;overflow: auto;}#sk-container-id-1 input.sk-toggleable__control:checked~label.sk-toggleable__label-arrow:before {content: \"▾\";}#sk-container-id-1 div.sk-estimator input.sk-toggleable__control:checked~label.sk-toggleable__label {background-color: #d4ebff;}#sk-container-id-1 div.sk-label input.sk-toggleable__control:checked~label.sk-toggleable__label {background-color: #d4ebff;}#sk-container-id-1 input.sk-hidden--visually {border: 0;clip: rect(1px 1px 1px 1px);clip: rect(1px, 1px, 1px, 1px);height: 1px;margin: -1px;overflow: hidden;padding: 0;position: absolute;width: 1px;}#sk-container-id-1 div.sk-estimator {font-family: monospace;background-color: #f0f8ff;border: 1px dotted black;border-radius: 0.25em;box-sizing: border-box;margin-bottom: 0.5em;}#sk-container-id-1 div.sk-estimator:hover {background-color: #d4ebff;}#sk-container-id-1 div.sk-parallel-item::after {content: \"\";width: 100%;border-bottom: 1px solid gray;flex-grow: 1;}#sk-container-id-1 div.sk-label:hover label.sk-toggleable__label {background-color: #d4ebff;}#sk-container-id-1 div.sk-serial::before {content: \"\";position: absolute;border-left: 1px solid gray;box-sizing: border-box;top: 0;bottom: 0;left: 50%;z-index: 0;}#sk-container-id-1 div.sk-serial {display: flex;flex-direction: column;align-items: center;background-color: white;padding-right: 0.2em;padding-left: 0.2em;position: relative;}#sk-container-id-1 div.sk-item {position: relative;z-index: 1;}#sk-container-id-1 div.sk-parallel {display: flex;align-items: stretch;justify-content: center;background-color: white;position: relative;}#sk-container-id-1 div.sk-item::before, #sk-container-id-1 div.sk-parallel-item::before {content: \"\";position: absolute;border-left: 1px solid gray;box-sizing: border-box;top: 0;bottom: 0;left: 50%;z-index: -1;}#sk-container-id-1 div.sk-parallel-item {display: flex;flex-direction: column;z-index: 1;position: relative;background-color: white;}#sk-container-id-1 div.sk-parallel-item:first-child::after {align-self: flex-end;width: 50%;}#sk-container-id-1 div.sk-parallel-item:last-child::after {align-self: flex-start;width: 50%;}#sk-container-id-1 div.sk-parallel-item:only-child::after {width: 0;}#sk-container-id-1 div.sk-dashed-wrapped {border: 1px dashed gray;margin: 0 0.4em 0.5em 0.4em;box-sizing: border-box;padding-bottom: 0.4em;background-color: white;}#sk-container-id-1 div.sk-label label {font-family: monospace;font-weight: bold;display: inline-block;line-height: 1.2em;}#sk-container-id-1 div.sk-label-container {text-align: center;}#sk-container-id-1 div.sk-container {/* jupyter's `normalize.less` sets `[hidden] { display: none; }` but bootstrap.min.css set `[hidden] { display: none !important; }` so we also need the `!important` here to be able to override the default hidden behavior on the sphinx rendered scikit-learn.org. See: https://github.com/scikit-learn/scikit-learn/issues/21755 */display: inline-block !important;position: relative;}#sk-container-id-1 div.sk-text-repr-fallback {display: none;}</style><div id=\"sk-container-id-1\" class=\"sk-top-container\"><div class=\"sk-text-repr-fallback\"><pre>LinearRegression()</pre><b>In a Jupyter environment, please rerun this cell to show the HTML representation or trust the notebook. <br />On GitHub, the HTML representation is unable to render, please try loading this page with nbviewer.org.</b></div><div class=\"sk-container\" hidden><div class=\"sk-item\"><div class=\"sk-estimator sk-toggleable\"><input class=\"sk-toggleable__control sk-hidden--visually\" id=\"sk-estimator-id-1\" type=\"checkbox\" checked><label for=\"sk-estimator-id-1\" class=\"sk-toggleable__label sk-toggleable__label-arrow\">LinearRegression</label><div class=\"sk-toggleable__content\"><pre>LinearRegression()</pre></div></div></div></div></div>"
      ],
      "text/plain": [
       "LinearRegression()"
      ]
     },
     "execution_count": 7,
     "metadata": {},
     "output_type": "execute_result"
    }
   ],
   "source": [
    "# Aplicamos el modelos al conjunto de entrenamiento\n",
    "modelo.fit(X_train, y_train)"
   ]
  },
  {
   "cell_type": "code",
   "execution_count": 8,
   "id": "1889470d",
   "metadata": {},
   "outputs": [],
   "source": [
    "# Aplicamos el modelo al conjunto de prueba\n",
    "y_pred = modelo.predict(X_test)"
   ]
  },
  {
   "cell_type": "markdown",
   "id": "d4e79008",
   "metadata": {},
   "source": [
    "## Obtenemos la información del modelo"
   ]
  },
  {
   "cell_type": "code",
   "execution_count": 9,
   "id": "be077f20",
   "metadata": {},
   "outputs": [
    {
     "name": "stdout",
     "output_type": "stream",
     "text": [
      "Coeficientes: [9.32450951]\n",
      "Intercepto: 695.2349833987321\n"
     ]
    }
   ],
   "source": [
    "# Obtenemos los parametros del modelo aplicado\n",
    "coeficientes = modelo.coef_\n",
    "intercepto = modelo.intercept_\n",
    "\n",
    "print(\"Coeficientes:\", coeficientes)\n",
    "print(\"Intercepto:\", intercepto)"
   ]
  },
  {
   "cell_type": "markdown",
   "id": "4418d040",
   "metadata": {},
   "source": [
    "## Validamos el modelo"
   ]
  },
  {
   "cell_type": "code",
   "execution_count": 10,
   "id": "5fb336d5",
   "metadata": {},
   "outputs": [
    {
     "name": "stdout",
     "output_type": "stream",
     "text": [
      "Error cuadrático medio (MSE): 178695.23463178403\n",
      "Coeficiente de determinación (R^2): 0.5443954937886465\n"
     ]
    }
   ],
   "source": [
    "# Validamos la precisión de nuestro modelo con el conjunto de prueba\n",
    "mse = mean_squared_error(y_test, y_pred)\n",
    "r2 = r2_score(y_test, y_pred)\n",
    "\n",
    "print(\"Error cuadrático medio (MSE):\", mse)\n",
    "print(\"Coeficiente de determinación (R^2):\", r2)"
   ]
  },
  {
   "cell_type": "code",
   "execution_count": 11,
   "id": "2afc805c",
   "metadata": {},
   "outputs": [
    {
     "data": {
      "image/png": "[encoded data removed]",
      "text/plain": [
       "<Figure size 640x480 with 1 Axes>"
      ]
     },
     "metadata": {},
     "output_type": "display_data"
    }
   ],
   "source": [
    "# Obtén los residuales del modelo\n",
    "residuales = Y - modelo.predict(X)\n",
    "\n",
    "# Crea un gráfico de dispersión de residuales\n",
    "plt.scatter(df['metro'], residuales)\n",
    "plt.xlabel('Metro')\n",
    "plt.ylabel('Residuales')\n",
    "plt.title('Gráfico de Residuales')\n",
    "plt.show()"
   ]
  },
  {
   "cell_type": "code",
   "execution_count": 12,
   "id": "3aafbabc",
   "metadata": {},
   "outputs": [
    {
     "name": "stdout",
     "output_type": "stream",
     "text": [
      "Estadístico de prueba: 0.6542775728963939\n",
      "Valores críticos: [0.505 0.575 0.69  0.804 0.957]\n"
     ]
    }
   ],
   "source": [
    "# Realiza la prueba de normalidad de Anderson-Darling\n",
    "resultado = anderson(residuales)\n",
    "\n",
    "# Muestra el estadístico de prueba y los valores críticos\n",
    "print('Estadístico de prueba:', resultado.statistic)\n",
    "print('Valores críticos:', resultado.critical_values)"
   ]
  },
  {
   "cell_type": "code",
   "execution_count": 13,
   "id": "6400f2c8",
   "metadata": {},
   "outputs": [
    {
     "name": "stdout",
     "output_type": "stream",
     "text": [
      "Estadístico de Durbin-Watson: 1.8979964849134567\n"
     ]
    }
   ],
   "source": [
    "# Calcula el estadístico de Durbin-Watson\n",
    "dw_statistic = durbin_watson(residuales)\n",
    "\n",
    "print('Estadístico de Durbin-Watson:', dw_statistic)"
   ]
  },
  {
   "cell_type": "markdown",
   "id": "06e4de81",
   "metadata": {},
   "source": [
    "## Análizamos la validación"
   ]
  },
  {
   "cell_type": "markdown",
   "id": "e1db27b4",
   "metadata": {},
   "source": [
    "**Error Cuadrático Medio (MSE):** El MSE es un indicador del error promedio entre las predicciones del modelo y los valores reales. En este caso, el MSE es bastante alto, lo cual sugiere que las predicciones del modelo tienen un error cuadrático medio significativo en relación con los valores reales. En otras palabras, el modelo no se ajusta bien a los datos y tiene dificultades para hacer predicciones precisas.\n",
    "\n",
    "**Coeficiente de Determinación (R^2):** El coeficiente de determinación (R^2) mide la proporción de la varianza en la variable dependiente (en este caso, \"precio\") que es explicada por la variable independiente (en este caso, \"metro\"). Un valor de R^2 de 0.54 indica que aproximadamente el 54% de la variabilidad en los precios puede ser explicada por la variable \"metro\". Esto significa que el modelo tiene un poder explicativo limitado y no está capturando completamente la variabilidad en los datos.\n",
    "\n",
    "**Prueba de normalidad Anderson-Darling:** La prueba de normalidad de Anderson-Darling que se realizó en los residuales indicó que hay evidencia significativa para rechazar la hipótesis nula de que los residuales son normalmente distribuidos. En otras palabras, los residuales no se ajustan bien a una distribución normal.\n",
    "\n",
    "**Estadístico de Durbin-Watson:** El estadístico de Durbin-Watson está cerca de 2, lo que sugiere que no hay evidencia sustancial de autocorrelación serial en los residuales. Un valor cercano a 2 indica que los residuales no muestran una autocorrelación significativa. Esto es una buena noticia, ya que la autocorrelación en los residuales podría indicar que el modelo no está capturando adecuadamente la estructura de los datos en función del tiempo o el orden de las observaciones.\n",
    "\n",
    "En resumen, los resultados del modelo de regresión que has proporcionado sugieren que el modelo no está funcionando de manera óptima. El alto valor del MSE y el valor moderado de R^2 indican que las predicciones del modelo no son muy precisas y que la variable \"metro\" por sí sola puede no ser suficiente para explicar los precios en el conjunto de datos. Es posible que se necesite considerar otros factores o una técnica de modelado diferente para mejorar la calidad de las predicciones del modelo.\n",
    "\n",
    "**Nota:** La conclusión negativa del modelo se debe a que inicialmente teníamos un conjunto de datos muy limitado, que constaba de solo 5 observaciones. Para abordar esta limitación y realizar un análisis más robusto, se generaron adicionalmente 15 puntos de datos de manera aleatoria para enriquecer el conjunto de datos. Esto nos permitió obtener resultados más significativos y representativos en nuestras evaluaciones y conclusiones"
   ]
  },
  {
   "cell_type": "markdown",
   "id": "3cff6cf5",
   "metadata": {},
   "source": [
    "## Conclusión"
   ]
  },
  {
   "cell_type": "markdown",
   "id": "4b40f881",
   "metadata": {},
   "source": [
    "**Supuestos:** \n",
    "* El campo precio es referente a precio de una casa. \n",
    "* El campo metros es metros cuadrados de una casa.\n",
    "\n",
    "Podemos concluir que nuestro modelo actual revela la presencia de variables ocultas que desempeñan un papel crucial en la predicción precisa de los precios de los inmuebles. Entre las variables importantes que podrían influir en el precio, se incluyen aspectos como la ubicación del inmueble, su antigüedad y, posiblemente, otros factores que aún no hemos considerado. Por lo tanto, para mejorar la capacidad predictiva de nuestro modelo, es esencial que exploremos y agreguemos estas variables relevantes a nuestro conjunto de datos. Esto nos permitirá obtener predicciones más precisas y útiles sobre los precios de los inmuebles en lugar de depender exclusivamente de la cantidad de metros cuadrados."
   ]
  },
  {
   "cell_type": "code",
   "execution_count": null,
   "id": "e9068d42",
   "metadata": {},
   "outputs": [],
   "source": []
  }
 ],
 "metadata": {
  "kernelspec": {
   "display_name": "Python 3 (ipykernel)",
   "language": "python",
   "name": "python3"
  },
  "language_info": {
   "codemirror_mode": {
    "name": "ipython",
    "version": 3
   },
   "file_extension": ".py",
   "mimetype": "text/x-python",
   "name": "python",
   "nbconvert_exporter": "python",
   "pygments_lexer": "ipython3",
   "version": "3.11.4"
  }
 },
 "nbformat": 4,
 "nbformat_minor": 5
}
