{
 "cells": [
  {
   "cell_type": "markdown",
   "id": "2c2d9b5d",
   "metadata": {},
   "source": [
    "## Importamos librerías"
   ]
  },
  {
   "cell_type": "code",
   "execution_count": 187,
   "id": "a19eccdd",
   "metadata": {},
   "outputs": [],
   "source": [
    "# Importamos las librerias necesarias para realizar nuestro modelo de regresión lineal.\n",
    "\n",
    "# Pandas para el manejo del dataframe\n",
    "import pandas as pd\n",
    "\n",
    "# Sklearn para el manejo del modelo y sus validaciones\n",
    "from sklearn.linear_model import LogisticRegression\n",
    "from sklearn.model_selection import train_test_split\n",
    "from sklearn.metrics import mean_squared_error, r2_score\n",
    "from sklearn.metrics import confusion_matrix\n",
    "\n",
    "# MatplotLib para el manejo de la visualización\n",
    "import matplotlib.pyplot as plt\n",
    "from mpl_toolkits.mplot3d import Axes3D"
   ]
  },
  {
   "cell_type": "markdown",
   "id": "1469a7c0",
   "metadata": {},
   "source": [
    "## Obtenemos el dataframe"
   ]
  },
  {
   "cell_type": "code",
   "execution_count": 190,
   "id": "e307d0d3",
   "metadata": {},
   "outputs": [],
   "source": [
    "# Convertimos nuestro archivo .csv en un dataframe. Separamos los campos por medio del caracter \",\"\n",
    "df = pd.read_csv('Regresion_logistica.csv', sep=',')\n",
    "\n",
    "# Limitamos nuestro dataframe. Esto para ver si nuestro modelo mejora o no con la variación de datos.\n",
    "df = df.head(4000)\n",
    "\n",
    "# Limpiamos nuestro dataframe de valores nulos y se guarda en un nuevo objeto.\n",
    "df_new = df.dropna(how='any')"
   ]
  },
  {
   "cell_type": "code",
   "execution_count": 191,
   "id": "bd29b3de",
   "metadata": {
    "scrolled": true
   },
   "outputs": [
    {
     "data": {
      "text/html": [
       "<div>\n",
       "<style scoped>\n",
       "    .dataframe tbody tr th:only-of-type {\n",
       "        vertical-align: middle;\n",
       "    }\n",
       "\n",
       "    .dataframe tbody tr th {\n",
       "        vertical-align: top;\n",
       "    }\n",
       "\n",
       "    .dataframe thead th {\n",
       "        text-align: right;\n",
       "    }\n",
       "</style>\n",
       "<table border=\"1\" class=\"dataframe\">\n",
       "  <thead>\n",
       "    <tr style=\"text-align: right;\">\n",
       "      <th></th>\n",
       "      <th>male</th>\n",
       "      <th>age</th>\n",
       "      <th>education</th>\n",
       "      <th>currentSmoker</th>\n",
       "      <th>cigsPerDay</th>\n",
       "      <th>BPMeds</th>\n",
       "      <th>prevalentStroke</th>\n",
       "      <th>prevalentHyp</th>\n",
       "      <th>diabetes</th>\n",
       "      <th>totChol</th>\n",
       "      <th>sysBP</th>\n",
       "      <th>diaBP</th>\n",
       "      <th>BMI</th>\n",
       "      <th>heartRate</th>\n",
       "      <th>glucose</th>\n",
       "      <th>TenYearCHD</th>\n",
       "    </tr>\n",
       "  </thead>\n",
       "  <tbody>\n",
       "    <tr>\n",
       "      <th>0</th>\n",
       "      <td>1</td>\n",
       "      <td>39</td>\n",
       "      <td>4.0</td>\n",
       "      <td>0</td>\n",
       "      <td>0.0</td>\n",
       "      <td>0.0</td>\n",
       "      <td>0</td>\n",
       "      <td>0</td>\n",
       "      <td>0</td>\n",
       "      <td>195.0</td>\n",
       "      <td>106.0</td>\n",
       "      <td>70.0</td>\n",
       "      <td>26.97</td>\n",
       "      <td>80.0</td>\n",
       "      <td>77.0</td>\n",
       "      <td>0</td>\n",
       "    </tr>\n",
       "    <tr>\n",
       "      <th>1</th>\n",
       "      <td>0</td>\n",
       "      <td>46</td>\n",
       "      <td>2.0</td>\n",
       "      <td>0</td>\n",
       "      <td>0.0</td>\n",
       "      <td>0.0</td>\n",
       "      <td>0</td>\n",
       "      <td>0</td>\n",
       "      <td>0</td>\n",
       "      <td>250.0</td>\n",
       "      <td>121.0</td>\n",
       "      <td>81.0</td>\n",
       "      <td>28.73</td>\n",
       "      <td>95.0</td>\n",
       "      <td>76.0</td>\n",
       "      <td>0</td>\n",
       "    </tr>\n",
       "    <tr>\n",
       "      <th>2</th>\n",
       "      <td>1</td>\n",
       "      <td>48</td>\n",
       "      <td>1.0</td>\n",
       "      <td>1</td>\n",
       "      <td>20.0</td>\n",
       "      <td>0.0</td>\n",
       "      <td>0</td>\n",
       "      <td>0</td>\n",
       "      <td>0</td>\n",
       "      <td>245.0</td>\n",
       "      <td>127.5</td>\n",
       "      <td>80.0</td>\n",
       "      <td>25.34</td>\n",
       "      <td>75.0</td>\n",
       "      <td>70.0</td>\n",
       "      <td>0</td>\n",
       "    </tr>\n",
       "    <tr>\n",
       "      <th>3</th>\n",
       "      <td>0</td>\n",
       "      <td>61</td>\n",
       "      <td>3.0</td>\n",
       "      <td>1</td>\n",
       "      <td>30.0</td>\n",
       "      <td>0.0</td>\n",
       "      <td>0</td>\n",
       "      <td>1</td>\n",
       "      <td>0</td>\n",
       "      <td>225.0</td>\n",
       "      <td>150.0</td>\n",
       "      <td>95.0</td>\n",
       "      <td>28.58</td>\n",
       "      <td>65.0</td>\n",
       "      <td>103.0</td>\n",
       "      <td>1</td>\n",
       "    </tr>\n",
       "    <tr>\n",
       "      <th>4</th>\n",
       "      <td>0</td>\n",
       "      <td>46</td>\n",
       "      <td>3.0</td>\n",
       "      <td>1</td>\n",
       "      <td>23.0</td>\n",
       "      <td>0.0</td>\n",
       "      <td>0</td>\n",
       "      <td>0</td>\n",
       "      <td>0</td>\n",
       "      <td>285.0</td>\n",
       "      <td>130.0</td>\n",
       "      <td>84.0</td>\n",
       "      <td>23.10</td>\n",
       "      <td>85.0</td>\n",
       "      <td>85.0</td>\n",
       "      <td>0</td>\n",
       "    </tr>\n",
       "  </tbody>\n",
       "</table>\n",
       "</div>"
      ],
      "text/plain": [
       "   male  age  education  currentSmoker  cigsPerDay  BPMeds  prevalentStroke  \\\n",
       "0     1   39        4.0              0         0.0     0.0                0   \n",
       "1     0   46        2.0              0         0.0     0.0                0   \n",
       "2     1   48        1.0              1        20.0     0.0                0   \n",
       "3     0   61        3.0              1        30.0     0.0                0   \n",
       "4     0   46        3.0              1        23.0     0.0                0   \n",
       "\n",
       "   prevalentHyp  diabetes  totChol  sysBP  diaBP    BMI  heartRate  glucose  \\\n",
       "0             0         0    195.0  106.0   70.0  26.97       80.0     77.0   \n",
       "1             0         0    250.0  121.0   81.0  28.73       95.0     76.0   \n",
       "2             0         0    245.0  127.5   80.0  25.34       75.0     70.0   \n",
       "3             1         0    225.0  150.0   95.0  28.58       65.0    103.0   \n",
       "4             0         0    285.0  130.0   84.0  23.10       85.0     85.0   \n",
       "\n",
       "   TenYearCHD  \n",
       "0           0  \n",
       "1           0  \n",
       "2           0  \n",
       "3           1  \n",
       "4           0  "
      ]
     },
     "execution_count": 191,
     "metadata": {},
     "output_type": "execute_result"
    }
   ],
   "source": [
    "# Verificamos nuestro dataframe con el método head()\n",
    "df_new.head()"
   ]
  },
  {
   "cell_type": "markdown",
   "id": "1e006b81",
   "metadata": {},
   "source": [
    "## Creamos nuestros subconjuntos para el modelo"
   ]
  },
  {
   "cell_type": "markdown",
   "id": "80cea9f0",
   "metadata": {},
   "source": [
    "### Probamos escenarios para nuestro modelo"
   ]
  },
  {
   "cell_type": "code",
   "execution_count": 167,
   "id": "c26caadf",
   "metadata": {},
   "outputs": [],
   "source": [
    "# Separamos el conjunto de datos en dependientes e independientes\n",
    "# Tenemos un primer escenario donde nos preguntamos si la edad y la cantidad de cigarrillos por día influyen directamente sobre\n",
    "# la adquisición de enfermedad coronaria a diez años.\n",
    "\n",
    "#X = dt[[\"age\", \"cigsPerDay\"]]\n",
    "#Y = dt[\"TenYearCHD\"]\n",
    "\n",
    "# Tenemos un segundo escenario donde nos preguntamos si todos los campos recolectados son suficiente para determinar si una\n",
    "# persona puede puede adquirir una enfermedad coronaria a diez años.\n",
    "Y = df_new[\"TenYearCHD\"]\n",
    "X = df_new.drop(columns=[\"TenYearCHD\"])"
   ]
  },
  {
   "cell_type": "code",
   "execution_count": 179,
   "id": "b7b1d3a2",
   "metadata": {},
   "outputs": [],
   "source": [
    "# Separamos los conjuntos anteriores en entrenamiento y prueba (80-20)\n",
    "X_train, X_test, y_train, y_test = train_test_split(X, Y, test_size=0.6, random_state=0)"
   ]
  },
  {
   "cell_type": "markdown",
   "id": "47685980",
   "metadata": {},
   "source": [
    "### Validamos graficamente el modelo en el caso del primer escenario"
   ]
  },
  {
   "cell_type": "code",
   "execution_count": 180,
   "id": "ac5e9de7",
   "metadata": {},
   "outputs": [],
   "source": [
    "### Validamos graficamente el dataframe\n",
    "#fig, ax = plt.subplots(subplot_kw={\"projection\": \"3d\"})\n",
    "#ax.scatter(dt[\"age\"], dt[\"cigsPerDay\"], dt[\"TenYearCHD\"])\n",
    "\n",
    "#ax.set_xlabel('age')\n",
    "#ax.set_ylabel('cigsPerDay')\n",
    "#ax.set_zlabel('TenYearCHD')\n",
    "\n",
    "#plt.show()"
   ]
  },
  {
   "cell_type": "code",
   "execution_count": 181,
   "id": "5fac0cb5",
   "metadata": {},
   "outputs": [],
   "source": [
    "# Creamos nuestro modelo de regresión lineal. Usamos parametros de iteración por problemas de convergencia del modelo.\n",
    "modelo = LogisticRegression(max_iter=1900, penalty='l2')"
   ]
  },
  {
   "cell_type": "code",
   "execution_count": 182,
   "id": "65b6a150",
   "metadata": {},
   "outputs": [
    {
     "data": {
      "text/html": [
       "<style>#sk-container-id-22 {color: black;}#sk-container-id-22 pre{padding: 0;}#sk-container-id-22 div.sk-toggleable {background-color: white;}#sk-container-id-22 label.sk-toggleable__label {cursor: pointer;display: block;width: 100%;margin-bottom: 0;padding: 0.3em;box-sizing: border-box;text-align: center;}#sk-container-id-22 label.sk-toggleable__label-arrow:before {content: \"▸\";float: left;margin-right: 0.25em;color: #696969;}#sk-container-id-22 label.sk-toggleable__label-arrow:hover:before {color: black;}#sk-container-id-22 div.sk-estimator:hover label.sk-toggleable__label-arrow:before {color: black;}#sk-container-id-22 div.sk-toggleable__content {max-height: 0;max-width: 0;overflow: hidden;text-align: left;background-color: #f0f8ff;}#sk-container-id-22 div.sk-toggleable__content pre {margin: 0.2em;color: black;border-radius: 0.25em;background-color: #f0f8ff;}#sk-container-id-22 input.sk-toggleable__control:checked~div.sk-toggleable__content {max-height: 200px;max-width: 100%;overflow: auto;}#sk-container-id-22 input.sk-toggleable__control:checked~label.sk-toggleable__label-arrow:before {content: \"▾\";}#sk-container-id-22 div.sk-estimator input.sk-toggleable__control:checked~label.sk-toggleable__label {background-color: #d4ebff;}#sk-container-id-22 div.sk-label input.sk-toggleable__control:checked~label.sk-toggleable__label {background-color: #d4ebff;}#sk-container-id-22 input.sk-hidden--visually {border: 0;clip: rect(1px 1px 1px 1px);clip: rect(1px, 1px, 1px, 1px);height: 1px;margin: -1px;overflow: hidden;padding: 0;position: absolute;width: 1px;}#sk-container-id-22 div.sk-estimator {font-family: monospace;background-color: #f0f8ff;border: 1px dotted black;border-radius: 0.25em;box-sizing: border-box;margin-bottom: 0.5em;}#sk-container-id-22 div.sk-estimator:hover {background-color: #d4ebff;}#sk-container-id-22 div.sk-parallel-item::after {content: \"\";width: 100%;border-bottom: 1px solid gray;flex-grow: 1;}#sk-container-id-22 div.sk-label:hover label.sk-toggleable__label {background-color: #d4ebff;}#sk-container-id-22 div.sk-serial::before {content: \"\";position: absolute;border-left: 1px solid gray;box-sizing: border-box;top: 0;bottom: 0;left: 50%;z-index: 0;}#sk-container-id-22 div.sk-serial {display: flex;flex-direction: column;align-items: center;background-color: white;padding-right: 0.2em;padding-left: 0.2em;position: relative;}#sk-container-id-22 div.sk-item {position: relative;z-index: 1;}#sk-container-id-22 div.sk-parallel {display: flex;align-items: stretch;justify-content: center;background-color: white;position: relative;}#sk-container-id-22 div.sk-item::before, #sk-container-id-22 div.sk-parallel-item::before {content: \"\";position: absolute;border-left: 1px solid gray;box-sizing: border-box;top: 0;bottom: 0;left: 50%;z-index: -1;}#sk-container-id-22 div.sk-parallel-item {display: flex;flex-direction: column;z-index: 1;position: relative;background-color: white;}#sk-container-id-22 div.sk-parallel-item:first-child::after {align-self: flex-end;width: 50%;}#sk-container-id-22 div.sk-parallel-item:last-child::after {align-self: flex-start;width: 50%;}#sk-container-id-22 div.sk-parallel-item:only-child::after {width: 0;}#sk-container-id-22 div.sk-dashed-wrapped {border: 1px dashed gray;margin: 0 0.4em 0.5em 0.4em;box-sizing: border-box;padding-bottom: 0.4em;background-color: white;}#sk-container-id-22 div.sk-label label {font-family: monospace;font-weight: bold;display: inline-block;line-height: 1.2em;}#sk-container-id-22 div.sk-label-container {text-align: center;}#sk-container-id-22 div.sk-container {/* jupyter's `normalize.less` sets `[hidden] { display: none; }` but bootstrap.min.css set `[hidden] { display: none !important; }` so we also need the `!important` here to be able to override the default hidden behavior on the sphinx rendered scikit-learn.org. See: https://github.com/scikit-learn/scikit-learn/issues/21755 */display: inline-block !important;position: relative;}#sk-container-id-22 div.sk-text-repr-fallback {display: none;}</style><div id=\"sk-container-id-22\" class=\"sk-top-container\"><div class=\"sk-text-repr-fallback\"><pre>LogisticRegression(max_iter=1900)</pre><b>In a Jupyter environment, please rerun this cell to show the HTML representation or trust the notebook. <br />On GitHub, the HTML representation is unable to render, please try loading this page with nbviewer.org.</b></div><div class=\"sk-container\" hidden><div class=\"sk-item\"><div class=\"sk-estimator sk-toggleable\"><input class=\"sk-toggleable__control sk-hidden--visually\" id=\"sk-estimator-id-22\" type=\"checkbox\" checked><label for=\"sk-estimator-id-22\" class=\"sk-toggleable__label sk-toggleable__label-arrow\">LogisticRegression</label><div class=\"sk-toggleable__content\"><pre>LogisticRegression(max_iter=1900)</pre></div></div></div></div></div>"
      ],
      "text/plain": [
       "LogisticRegression(max_iter=1900)"
      ]
     },
     "execution_count": 182,
     "metadata": {},
     "output_type": "execute_result"
    }
   ],
   "source": [
    "# Aplicamos el modelos al conjunto de entrenamiento\n",
    "modelo.fit(X_train, y_train)"
   ]
  },
  {
   "cell_type": "code",
   "execution_count": 183,
   "id": "dcdaa96a",
   "metadata": {},
   "outputs": [],
   "source": [
    "# Aplicamos el modelo al conjunto de prueba\n",
    "y_pred = modelo.predict(X_test)"
   ]
  },
  {
   "cell_type": "markdown",
   "id": "10af38a8",
   "metadata": {},
   "source": [
    "## Obtenemos la información del modelo"
   ]
  },
  {
   "cell_type": "code",
   "execution_count": 185,
   "id": "0bc68971",
   "metadata": {},
   "outputs": [
    {
     "name": "stdout",
     "output_type": "stream",
     "text": [
      "Coeficientes: [[ 0.28223695  0.06804166  0.02508785 -0.00542945  0.01822793  0.22073935\n",
      "   0.12451148  0.20270171 -0.02402723  0.00185961  0.0063635   0.01311624\n",
      "   0.02347851  0.00209537  0.00671099]]\n",
      "Intercepto: [-9.48099129]\n"
     ]
    }
   ],
   "source": [
    "# Obtenemos los parametros del modelo aplicado\n",
    "coeficientes = modelo.coef_\n",
    "intercepto = modelo.intercept_\n",
    "\n",
    "print(\"Coeficientes:\", coeficientes)\n",
    "print(\"Intercepto:\", intercepto)"
   ]
  },
  {
   "cell_type": "markdown",
   "id": "1d5a909e",
   "metadata": {},
   "source": [
    "## Validamos el modelo"
   ]
  },
  {
   "cell_type": "code",
   "execution_count": 193,
   "id": "55ecf1b6",
   "metadata": {},
   "outputs": [
    {
     "name": "stdout",
     "output_type": "stream",
     "text": [
      "Error cuadrático medio (MSE): 0.15198451113262343\n",
      "Coeficiente de determinación (R^2): -0.15813583982718749\n"
     ]
    }
   ],
   "source": [
    "# Validamos la precisión de nuestro modelo con el conjunto de prueba\n",
    "mse = mean_squared_error(y_test, y_pred)\n",
    "r2 = r2_score(y_test, y_pred)\n",
    "\n",
    "print(\"Error cuadrático medio (MSE):\", mse)\n",
    "print(\"Coeficiente de determinación (R^2):\", r2)"
   ]
  },
  {
   "cell_type": "code",
   "execution_count": 194,
   "id": "8d45c9d3",
   "metadata": {},
   "outputs": [
    {
     "name": "stdout",
     "output_type": "stream",
     "text": [
      "Matriz de Confusión:\n",
      "[[1737    8]\n",
      " [ 306   15]]\n"
     ]
    }
   ],
   "source": [
    "# Creamos una matriz de confusión para validar el tipo de predicción encontrada.\n",
    "confusion = confusion_matrix(y_test, y_pred)\n",
    "\n",
    "# Imprimir la matriz de confusión\n",
    "print(\"Matriz de Confusión:\")\n",
    "print(confusion)"
   ]
  },
  {
   "cell_type": "markdown",
   "id": "dd5721c6",
   "metadata": {},
   "source": [
    "## Analizamos las validaciones"
   ]
  },
  {
   "cell_type": "markdown",
   "id": "ceaaff87",
   "metadata": {},
   "source": [
    "**Error Cuadrático Medio (MSE):** El MSE mide la magnitud del error cuadrático promedio entre las predicciones del modelo y los valores reales. En este caso, un MSE de 0.1519 indica que el modelo tiene un error medio cuadrático relativamente bajo en comparación con la variabilidad de los datos. Esto podría sugerir que el modelo tiene una buena capacidad para hacer predicciones cercanas a los valores reales.\n",
    "\n",
    "**Coeficiente de Determinación (R^2):** El R^2 proporciona una medida de cuánta varianza en la variable objetivo (TenYearCHD) es explicada por el modelo. Sin embargo, un valor negativo de R^2 (-0.1581) es inusual y sugiere que el modelo no se ajusta bien a los datos o que el modelo es inapropiado para este conjunto de datos. Un R^2 negativo generalmente indica que el modelo es peor que simplemente predecir la media de la variable objetivo en todos los casos.\n",
    "\n",
    "**Matriz de confusión:** \n",
    "La matriz de confusión que resultante muestra el rendimiento de tu modelo de regresión logística en términos de verdaderos positivos (TP), falsos positivos (FP), verdaderos negativos (TN) y falsos negativos (FN) en un problema de clasificación binaria. Aquí está la interpretación de la matriz de confusión:\n",
    "\n",
    "Verdaderos Positivos (TP): 15\n",
    "Falsos Positivos (FP): 8\n",
    "Verdaderos Negativos (TN): 1737\n",
    "Falsos Negativos (FN): 306\n",
    "Ahora, podemos calcular algunas métricas de evaluación del modelo utilizando estos valores:\n",
    "\n",
    "* Precisión (Precision): La precisión mide la proporción de predicciones positivas (1) que fueron correctas. Se calcula como TP / (TP + FP). En tu caso, sería 15 / (15 + 8) ≈ 0.6522.\n",
    "\n",
    "* Recall (Sensibilidad o Tasa de Verdaderos Positivos): Recall mide la proporción de casos positivos reales que el modelo identificó correctamente. Se calcula como TP / (TP + FN). En tu caso, sería 15 / (15 + 306) ≈ 0.0464.\n",
    "\n",
    "* Exactitud (Accuracy): La exactitud mide la proporción total de predicciones correctas (tanto positivas como negativas). Se calcula como (TP + TN) / (TP + TN + FP + FN). En tu caso, sería (15 + 1737) / (15 + 1737 + 8 + 306) ≈ 0.8499.\n",
    "\n",
    "* F1-Score: El puntaje F1 es la media armónica de precisión y recall y proporciona un equilibrio entre ambas métricas. Se calcula como 2 * (Precisión * Recall) / (Precisión + Recall). En tu caso, sería 2 * (0.6522 * 0.0464) / (0.6522 + 0.0464) ≈ 0.0856.\n",
    "\n",
    "Dado que mi escenario parece estar desequilibrado (hay muchos más casos negativos que positivos), es importante tener en cuenta que la precisión puede ser alta debido a la predicción exitosa de la mayoría de los casos negativos, pero el recall es bajo, lo que indica que el modelo tiene dificultades para identificar los casos positivos."
   ]
  },
  {
   "cell_type": "markdown",
   "id": "31f2abd8",
   "metadata": {},
   "source": [
    "## Conclusión"
   ]
  },
  {
   "cell_type": "markdown",
   "id": "6f6cb914",
   "metadata": {},
   "source": [
    "Podemos concluir que el riesgo de enfermedad coronaria a 10 años no se puede predecir correctamente con nuestro modelo y debemos analizar más a fondo las causas, por ejemplo validar los atributos con los que se modelo el escenario, o aumentar la cantidad de datos que tenemos para el estudio."
   ]
  }
 ],
 "metadata": {
  "kernelspec": {
   "display_name": "Python 3 (ipykernel)",
   "language": "python",
   "name": "python3"
  },
  "language_info": {
   "codemirror_mode": {
    "name": "ipython",
    "version": 3
   },
   "file_extension": ".py",
   "mimetype": "text/x-python",
   "name": "python",
   "nbconvert_exporter": "python",
   "pygments_lexer": "ipython3",
   "version": "3.11.4"
  }
 },
 "nbformat": 4,
 "nbformat_minor": 5
}
